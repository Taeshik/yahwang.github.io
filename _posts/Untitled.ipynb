{
 "cells": [
  {
   "cell_type": "code",
   "execution_count": 1,
   "metadata": {},
   "outputs": [],
   "source": [
    "import requests"
   ]
  },
  {
   "cell_type": "code",
   "execution_count": 102,
   "metadata": {},
   "outputs": [],
   "source": [
    "headers = {'User-Agent': 'Mozilla/5.0 (Windows NT 10.0; Win64; x64) AppleWebKit/537.36 (KHTML, like Gecko) Chrome/63.0.3239.132 Safari/537.36' }\n",
    "test = requests.get('http://www.melon.com/search/keyword/index.json?jscallback=jQuery19107331037731232088_1516104579240&query=%25EC%2584%25B1%25EC%258B%259C%25EA%25B2%25BD&_=1516104579248', headers=headers)"
   ]
  },
  {
   "cell_type": "code",
   "execution_count": 103,
   "metadata": {},
   "outputs": [],
   "source": [
    "import re"
   ]
  },
  {
   "cell_type": "code",
   "execution_count": 120,
   "metadata": {},
   "outputs": [],
   "source": [
    "res = re.findall('{.+}', test.text)[0]"
   ]
  },
  {
   "cell_type": "code",
   "execution_count": 129,
   "metadata": {},
   "outputs": [],
   "source": [
    "tt = res"
   ]
  },
  {
   "cell_type": "code",
   "execution_count": 132,
   "metadata": {},
   "outputs": [],
   "source": [
    "import json"
   ]
  },
  {
   "cell_type": "code",
   "execution_count": 134,
   "metadata": {},
   "outputs": [
    {
     "data": {
      "text/plain": [
       "{'ALBUMCONTENTS': [{'ALBUMID': '10106733',\n",
       "   'ALBUMIMG': 'http://cdnimg.melon.co.kr/cm/album/images/101/06/733/10106733_500.jpg/melon/resize/40/quality/80/optimize',\n",
       "   'ALBUMNAME': '나의 밤 나의 너',\n",
       "   'ALBUMNAMEDP': '나의 밤 나의 너',\n",
       "   'ARTISTNAME': '성시경'},\n",
       "  {'ALBUMID': '1029252',\n",
       "   'ALBUMIMG': 'http://cdnimg.melon.co.kr/cm/album/images/010/29/252/1029252_500.jpg/melon/resize/40/quality/80/optimize',\n",
       "   'ALBUMNAME': '그대네요',\n",
       "   'ALBUMNAMEDP': '그대네요',\n",
       "   'ARTISTNAME': '성시경, 아이유'},\n",
       "  {'ALBUMID': '2011288',\n",
       "   'ALBUMIMG': 'http://cdnimg.melon.co.kr/cm/album/images/020/11/288/2011288_500.jpg/melon/resize/40/quality/80/optimize',\n",
       "   'ALBUMNAME': '처음',\n",
       "   'ALBUMNAMEDP': '처음',\n",
       "   'ARTISTNAME': '성시경'},\n",
       "  {'ALBUMID': '328396',\n",
       "   'ALBUMIMG': 'http://cdnimg.melon.co.kr/cm/album/images/003/28/396/328396_500.jpg/melon/resize/40/quality/80/optimize',\n",
       "   'ALBUMNAME': 'The Ballads',\n",
       "   'ALBUMNAMEDP': 'The Ballads',\n",
       "   'ARTISTNAME': '성시경'},\n",
       "  {'ALBUMID': '2213824',\n",
       "   'ALBUMIMG': 'http://cdnimg.melon.co.kr/cm/album/images/022/13/824/2213824_500.jpg/melon/resize/40/quality/80/optimize',\n",
       "   'ALBUMNAME': '응답하라 1994 OST Part 2',\n",
       "   'ALBUMNAMEDP': '응답하라 1994 OST Part 2',\n",
       "   'ARTISTNAME': '성시경'},\n",
       "  {'ALBUMID': '382892',\n",
       "   'ALBUMIMG': 'http://cdnimg.melon.co.kr/cm/album/images/003/82/892/382892_500.jpg/melon/resize/40/quality/80/optimize',\n",
       "   'ALBUMNAME': '여기 내 맘속에',\n",
       "   'ALBUMNAMEDP': '여기 내 맘속에',\n",
       "   'ARTISTNAME': '성시경'},\n",
       "  {'ALBUMID': '34703',\n",
       "   'ALBUMIMG': 'http://cdnimg.melon.co.kr/cm/album/images/000/34/703/34703_500.jpg/melon/resize/40/quality/80/optimize',\n",
       "   'ALBUMNAME': '성시경 Remake Album',\n",
       "   'ALBUMNAMEDP': '<b>성시경</b> Remake Album',\n",
       "   'ARTISTNAME': '성시경'},\n",
       "  {'ALBUMID': '2220514',\n",
       "   'ALBUMIMG': 'http://cdnimg.melon.co.kr/cm/album/images/022/20/514/2220514_500.jpg/melon/resize/40/quality/80/optimize',\n",
       "   'ALBUMNAME': 'Jelly Christmas 2013',\n",
       "   'ALBUMNAMEDP': 'Jelly Christmas 2013',\n",
       "   'ARTISTNAME': '성시경, 박효신, 서인국, 빅스, 여동생'},\n",
       "  {'ALBUMID': '301311',\n",
       "   'ALBUMIMG': 'http://cdnimg.melon.co.kr/cm/album/images/003/01/311/301311_500.jpg/melon/resize/40/quality/80/optimize',\n",
       "   'ALBUMNAME': '4집 - 다시 꿈꾸고 싶다',\n",
       "   'ALBUMNAMEDP': '4집 - 다시 꿈꾸고 싶다',\n",
       "   'ARTISTNAME': '성시경'},\n",
       "  {'ALBUMID': '2138',\n",
       "   'ALBUMIMG': 'http://cdnimg.melon.co.kr/cm/album/images/000/02/138/2138_500.jpg/melon/resize/40/quality/80/optimize',\n",
       "   'ALBUMNAME': '처음처럼',\n",
       "   'ALBUMNAMEDP': '처음처럼',\n",
       "   'ARTISTNAME': '성시경'},\n",
       "  {'ALBUMID': '16541',\n",
       "   'ALBUMIMG': 'http://cdnimg.melon.co.kr/cm/album/images/000/16/541/16541_500.jpg/melon/resize/40/quality/80/optimize',\n",
       "   'ALBUMNAME': 'Melodie d` Amour',\n",
       "   'ALBUMNAMEDP': 'Melodie d` Amour',\n",
       "   'ARTISTNAME': '성시경'},\n",
       "  {'ALBUMID': '2168409',\n",
       "   'ALBUMIMG': 'http://cdnimg.melon.co.kr/cm/album/images/021/68/409/2168409_500.jpg/melon/resize/40/quality/80/optimize',\n",
       "   'ALBUMNAME': 'Jelly Christmas 2012 HEART PROJECT',\n",
       "   'ALBUMNAMEDP': 'Jelly Christmas 2012 HEART PROJECT',\n",
       "   'ARTISTNAME': '성시경, 박효신, 이석훈, 서인국, 빅스'},\n",
       "  {'ALBUMID': '1093556',\n",
       "   'ALBUMIMG': 'http://cdnimg.melon.co.kr/cm/album/images/010/93/556/1093556_500.jpg/melon/resize/40/quality/80/optimize',\n",
       "   'ALBUMNAME': 'Jelly Christmas',\n",
       "   'ALBUMNAMEDP': 'Jelly Christmas',\n",
       "   'ARTISTNAME': '성시경, 박효신, 서인국, 브라이언, 리사, 박학기, 김형중, 견우'},\n",
       "  {'ALBUMID': '2292827',\n",
       "   'ALBUMIMG': 'http://cdnimg.melon.co.kr/cm/album/images/022/92/827/2292827_2_500.jpg/melon/resize/40/quality/80/optimize',\n",
       "   'ALBUMNAME': 'Winter Wonderland',\n",
       "   'ALBUMNAMEDP': 'Winter Wonderland',\n",
       "   'ARTISTNAME': '성시경'},\n",
       "  {'ALBUMID': '2232505',\n",
       "   'ALBUMIMG': 'http://cdnimg.melon.co.kr/cm/album/images/022/32/505/2232505_500.jpg/melon/resize/40/quality/80/optimize',\n",
       "   'ALBUMNAME': '별에서 온 그대 OST Part.7',\n",
       "   'ALBUMNAMEDP': '별에서 온 그대 OST Part.7',\n",
       "   'ARTISTNAME': '성시경'}],\n",
       " 'ARTISTCONTENTS': [{'ACTTYPENAMES': '솔로',\n",
       "   'ARITSTIMG': 'http://cdnimg.melon.co.kr/cm/artistcrop/images/000/03/305/3305_500.jpg/melon/resize/40/quality/80/optimize',\n",
       "   'ARTISTID': '3305',\n",
       "   'ARTISTNAME': '성시경',\n",
       "   'ARTISTNAMEDP': '<b>성시경</b>',\n",
       "   'NATIONALITYNAME': '대한민국',\n",
       "   'SEX': '남성'}],\n",
       " 'KEYWORD': '성시경',\n",
       " 'KEYWORDCONTENTS': [{'KEYWORD': '성시경', 'KEYWORDDP': '<b>성시경</b>'},\n",
       "  {'KEYWORD': '성시경 나의 밤 나의 너', 'KEYWORDDP': '<b>성시경</b> 나의 밤 나의 너'},\n",
       "  {'KEYWORD': '성시경 내게 오는 길', 'KEYWORDDP': '<b>성시경</b> 내게 오는 길'},\n",
       "  {'KEYWORD': '성시경 넌 감동이었어', 'KEYWORDDP': '<b>성시경</b> 넌 감동이었어'},\n",
       "  {'KEYWORD': '성시경 너의 모든 순간', 'KEYWORDDP': '<b>성시경</b> 너의 모든 순간'},\n",
       "  {'KEYWORD': '성시경소유', 'KEYWORDDP': '<b>성시경</b>소유'},\n",
       "  {'KEYWORD': '성시경 두사람', 'KEYWORDDP': '<b>성시경</b> 두사람'},\n",
       "  {'KEYWORD': '성시경 거리에서', 'KEYWORDDP': '<b>성시경</b> 거리에서'},\n",
       "  {'KEYWORD': '성시경 크리스마스니까', 'KEYWORDDP': '<b>성시경</b> 크리스마스니까'},\n",
       "  {'KEYWORD': '성시경 너에게', 'KEYWORDDP': '<b>성시경</b> 너에게'},\n",
       "  {'KEYWORD': '성시경 희재', 'KEYWORDDP': '<b>성시경</b> 희재'},\n",
       "  {'KEYWORD': '성시경 아이유 그대네요', 'KEYWORDDP': '<b>성시경</b> 아이유 그대네요'},\n",
       "  {'KEYWORD': '성시경 태양계', 'KEYWORDDP': '<b>성시경</b> 태양계'},\n",
       "  {'KEYWORD': '성시경 제주도의 푸른 밤', 'KEYWORDDP': '<b>성시경</b> 제주도의 푸른 밤'},\n",
       "  {'KEYWORD': '성시경 차마', 'KEYWORDDP': '<b>성시경</b> 차마'}],\n",
       " 'SONGCONTENTS': [{'ALBUMID': '2232505',\n",
       "   'ALBUMIMG': 'http://cdnimg.melon.co.kr/cm/album/images/022/32/505/2232505_500.jpg/melon/resize/40/quality/80/optimize',\n",
       "   'ALBUMNAME': '별에서 온 그대 OST Part.7',\n",
       "   'ARTISTNAME': '성시경',\n",
       "   'SONGID': '4446485',\n",
       "   'SONGNAME': '너의 모든 순간',\n",
       "   'SONGNAMEDP': '너의 모든 순간'},\n",
       "  {'ALBUMID': '328396',\n",
       "   'ALBUMIMG': 'http://cdnimg.melon.co.kr/cm/album/images/003/28/396/328396_500.jpg/melon/resize/40/quality/80/optimize',\n",
       "   'ALBUMNAME': 'The Ballads',\n",
       "   'ARTISTNAME': '성시경',\n",
       "   'SONGID': '1467722',\n",
       "   'SONGNAME': '거리에서',\n",
       "   'SONGNAMEDP': '거리에서'},\n",
       "  {'ALBUMID': '10111091',\n",
       "   'ALBUMIMG': 'http://cdnimg.melon.co.kr/cm/album/images/101/11/091/10111091_500.jpg/melon/resize/40/quality/80/optimize',\n",
       "   'ALBUMNAME': 'RE:BORN',\n",
       "   'ARTISTNAME': '소유 (SOYOU), 성시경',\n",
       "   'SONGID': '30725643',\n",
       "   'SONGNAME': '뻔한 이별 (PROD. 13)',\n",
       "   'SONGNAMEDP': '뻔한 이별 (PROD. 13)'},\n",
       "  {'ALBUMID': '10106733',\n",
       "   'ALBUMIMG': 'http://cdnimg.melon.co.kr/cm/album/images/101/06/733/10106733_500.jpg/melon/resize/40/quality/80/optimize',\n",
       "   'ALBUMNAME': '나의 밤 나의 너',\n",
       "   'ARTISTNAME': '성시경',\n",
       "   'SONGID': '30698332',\n",
       "   'SONGNAME': '나의 밤 나의 너',\n",
       "   'SONGNAMEDP': '나의 밤 나의 너'},\n",
       "  {'ALBUMID': '1029252',\n",
       "   'ALBUMIMG': 'http://cdnimg.melon.co.kr/cm/album/images/010/29/252/1029252_500.jpg/melon/resize/40/quality/80/optimize',\n",
       "   'ALBUMNAME': '그대네요',\n",
       "   'ARTISTNAME': '성시경, 아이유',\n",
       "   'SONGID': '2949854',\n",
       "   'SONGNAME': '그대네요',\n",
       "   'SONGNAMEDP': '그대네요'},\n",
       "  {'ALBUMID': '301311',\n",
       "   'ALBUMIMG': 'http://cdnimg.melon.co.kr/cm/album/images/003/01/311/301311_500.jpg/melon/resize/40/quality/80/optimize',\n",
       "   'ALBUMNAME': '4집 - 다시 꿈꾸고 싶다',\n",
       "   'ARTISTNAME': '성시경',\n",
       "   'SONGID': '833034',\n",
       "   'SONGNAME': '두사람',\n",
       "   'SONGNAMEDP': '두사람'},\n",
       "  {'ALBUMID': '2138',\n",
       "   'ALBUMIMG': 'http://cdnimg.melon.co.kr/cm/album/images/000/02/138/2138_500.jpg/melon/resize/40/quality/80/optimize',\n",
       "   'ALBUMNAME': '처음처럼',\n",
       "   'ARTISTNAME': '성시경',\n",
       "   'SONGID': '8302',\n",
       "   'SONGNAME': '내게 오는 길',\n",
       "   'SONGNAMEDP': '내게 오는 길'},\n",
       "  {'ALBUMID': '2174473',\n",
       "   'ALBUMIMG': 'http://cdnimg.melon.co.kr/cm/album/images/021/74/473/2174473_500.jpg/melon/resize/40/quality/80/optimize',\n",
       "   'ALBUMNAME': '2013 월간 윤종신 Repair 2월호',\n",
       "   'ARTISTNAME': '윤종신, 성시경',\n",
       "   'SONGID': '4027954',\n",
       "   'SONGNAME': '내일 할 일',\n",
       "   'SONGNAMEDP': '내일 할 일'},\n",
       "  {'ALBUMID': '2213824',\n",
       "   'ALBUMIMG': 'http://cdnimg.melon.co.kr/cm/album/images/022/13/824/2213824_500.jpg/melon/resize/40/quality/80/optimize',\n",
       "   'ALBUMNAME': '응답하라 1994 OST Part 2',\n",
       "   'ARTISTNAME': '성시경',\n",
       "   'SONGID': '4300699',\n",
       "   'SONGNAME': '너에게',\n",
       "   'SONGNAMEDP': '너에게'},\n",
       "  {'ALBUMID': '16541',\n",
       "   'ALBUMIMG': 'http://cdnimg.melon.co.kr/cm/album/images/000/16/541/16541_500.jpg/melon/resize/40/quality/80/optimize',\n",
       "   'ALBUMNAME': 'Melodie d` Amour',\n",
       "   'ARTISTNAME': '성시경',\n",
       "   'SONGID': '313555',\n",
       "   'SONGNAME': '넌 감동이었어',\n",
       "   'SONGNAMEDP': '넌 감동이었어'},\n",
       "  {'ALBUMID': '1117461',\n",
       "   'ALBUMIMG': 'http://cdnimg.melon.co.kr/cm/album/images/011/17/461/1117461_500.jpg/melon/resize/40/quality/80/optimize',\n",
       "   'ALBUMNAME': '시크릿 가든 OST Part.4',\n",
       "   'ARTISTNAME': '성시경',\n",
       "   'SONGID': '3079872',\n",
       "   'SONGNAME': '너는 나의 봄이다',\n",
       "   'SONGNAMEDP': '너는 나의 봄이다'},\n",
       "  {'ALBUMID': '28985',\n",
       "   'ALBUMIMG': 'http://cdnimg.melon.co.kr/cm/album/images/000/28/985/28985_500.jpg/melon/resize/40/quality/80/optimize',\n",
       "   'ALBUMNAME': '국화꽃 향기 OST',\n",
       "   'ARTISTNAME': '성시경',\n",
       "   'SONGID': '418168',\n",
       "   'SONGNAME': '희재',\n",
       "   'SONGNAMEDP': '희재'},\n",
       "  {'ALBUMID': '382892',\n",
       "   'ALBUMIMG': 'http://cdnimg.melon.co.kr/cm/album/images/003/82/892/382892_500.jpg/melon/resize/40/quality/80/optimize',\n",
       "   'ALBUMNAME': '여기 내 맘속에',\n",
       "   'ARTISTNAME': '성시경',\n",
       "   'SONGID': '1884329',\n",
       "   'SONGNAME': '안녕 나의 사랑',\n",
       "   'SONGNAMEDP': '안녕 나의 사랑'},\n",
       "  {'ALBUMID': '2168409',\n",
       "   'ALBUMIMG': 'http://cdnimg.melon.co.kr/cm/album/images/021/68/409/2168409_500.jpg/melon/resize/40/quality/80/optimize',\n",
       "   'ALBUMNAME': 'Jelly Christmas 2012 HEART PROJECT',\n",
       "   'ARTISTNAME': '성시경, 박효신, 이석훈, 서인국, 빅스',\n",
       "   'SONGID': '3973781',\n",
       "   'SONGNAME': '크리스마스니까',\n",
       "   'SONGNAMEDP': '크리스마스니까'},\n",
       "  {'ALBUMID': '2711070',\n",
       "   'ALBUMIMG': 'http://cdnimg.melon.co.kr/cm/album/images/027/11/070/2711070_500.jpg/melon/resize/40/quality/80/optimize',\n",
       "   'ALBUMNAME': '구르미 그린 달빛 OST Part.5',\n",
       "   'ARTISTNAME': '성시경',\n",
       "   'SONGID': '9646401',\n",
       "   'SONGNAME': '다정하게, 안녕히',\n",
       "   'SONGNAMEDP': '다정하게, 안녕히'}],\n",
       " 'STATUS': '0',\n",
       " 'httpDomain': 'http://www.melon.com',\n",
       " 'httpsDomain': 'https://www.melon.com',\n",
       " 'staticDomain': 'https://static.melon.co.kr'}"
      ]
     },
     "execution_count": 134,
     "metadata": {},
     "output_type": "execute_result"
    }
   ],
   "source": [
    "json.loads(res)"
   ]
  },
  {
   "cell_type": "code",
   "execution_count": 158,
   "metadata": {},
   "outputs": [],
   "source": [
    "a = \"{'test':'hello'}\""
   ]
  },
  {
   "cell_type": "code",
   "execution_count": 162,
   "metadata": {},
   "outputs": [
    {
     "data": {
      "text/plain": [
       "\"{'test':'hello'}\""
      ]
     },
     "execution_count": 162,
     "metadata": {},
     "output_type": "execute_result"
    }
   ],
   "source": [
    "a"
   ]
  },
  {
   "cell_type": "code",
   "execution_count": 163,
   "metadata": {},
   "outputs": [],
   "source": [
    "b = a.replace(\"'\",'\"')"
   ]
  },
  {
   "cell_type": "code",
   "execution_count": 165,
   "metadata": {},
   "outputs": [
    {
     "data": {
      "text/plain": [
       "'{\"test\":\"hello\"}'"
      ]
     },
     "execution_count": 165,
     "metadata": {},
     "output_type": "execute_result"
    }
   ],
   "source": [
    "b"
   ]
  },
  {
   "cell_type": "code",
   "execution_count": 164,
   "metadata": {},
   "outputs": [
    {
     "data": {
      "text/plain": [
       "{'test': 'hello'}"
      ]
     },
     "execution_count": 164,
     "metadata": {},
     "output_type": "execute_result"
    }
   ],
   "source": [
    "json.loads(b)"
   ]
  },
  {
   "cell_type": "code",
   "execution_count": null,
   "metadata": {},
   "outputs": [],
   "source": []
  }
 ],
 "metadata": {
  "kernelspec": {
   "display_name": "Python 3",
   "language": "python",
   "name": "python3"
  },
  "language_info": {
   "codemirror_mode": {
    "name": "ipython",
    "version": 3
   },
   "file_extension": ".py",
   "mimetype": "text/x-python",
   "name": "python",
   "nbconvert_exporter": "python",
   "pygments_lexer": "ipython3",
   "version": "3.6.4"
  }
 },
 "nbformat": 4,
 "nbformat_minor": 2
}
